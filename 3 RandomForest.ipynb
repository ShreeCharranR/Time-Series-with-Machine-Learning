{
 "cells": [
  {
   "cell_type": "markdown",
   "metadata": {},
   "source": [
    "# Random Forest Model"
   ]
  },
  {
   "cell_type": "code",
   "execution_count": 1,
   "metadata": {},
   "outputs": [],
   "source": [
    "import pandas as pd\n",
    "from pandas import read_csv\n",
    "from matplotlib import pyplot as plot"
   ]
  },
  {
   "cell_type": "code",
   "execution_count": 2,
   "metadata": {},
   "outputs": [
    {
     "data": {
      "text/html": [
       "<div>\n",
       "<style scoped>\n",
       "    .dataframe tbody tr th:only-of-type {\n",
       "        vertical-align: middle;\n",
       "    }\n",
       "\n",
       "    .dataframe tbody tr th {\n",
       "        vertical-align: top;\n",
       "    }\n",
       "\n",
       "    .dataframe thead th {\n",
       "        text-align: right;\n",
       "    }\n",
       "</style>\n",
       "<table border=\"1\" class=\"dataframe\">\n",
       "  <thead>\n",
       "    <tr style=\"text-align: right;\">\n",
       "      <th></th>\n",
       "      <th>t-12</th>\n",
       "      <th>t-11</th>\n",
       "      <th>t-10</th>\n",
       "      <th>t-9</th>\n",
       "      <th>t-8</th>\n",
       "      <th>t-7</th>\n",
       "      <th>t-6</th>\n",
       "      <th>t-5</th>\n",
       "      <th>t-4</th>\n",
       "      <th>t-3</th>\n",
       "      <th>t-2</th>\n",
       "      <th>t-1</th>\n",
       "      <th>t</th>\n",
       "    </tr>\n",
       "  </thead>\n",
       "  <tbody>\n",
       "    <tr>\n",
       "      <td>0</td>\n",
       "      <td>10.0</td>\n",
       "      <td>9.0</td>\n",
       "      <td>-2.0</td>\n",
       "      <td>-17.0</td>\n",
       "      <td>-18.0</td>\n",
       "      <td>-1.0</td>\n",
       "      <td>3.0</td>\n",
       "      <td>4.0</td>\n",
       "      <td>33.0</td>\n",
       "      <td>-6.0</td>\n",
       "      <td>-3.0</td>\n",
       "      <td>-11.0</td>\n",
       "      <td>3.0</td>\n",
       "    </tr>\n",
       "    <tr>\n",
       "      <td>1</td>\n",
       "      <td>9.0</td>\n",
       "      <td>-2.0</td>\n",
       "      <td>-17.0</td>\n",
       "      <td>-18.0</td>\n",
       "      <td>-1.0</td>\n",
       "      <td>3.0</td>\n",
       "      <td>4.0</td>\n",
       "      <td>33.0</td>\n",
       "      <td>-6.0</td>\n",
       "      <td>-3.0</td>\n",
       "      <td>-11.0</td>\n",
       "      <td>3.0</td>\n",
       "      <td>13.0</td>\n",
       "    </tr>\n",
       "    <tr>\n",
       "      <td>2</td>\n",
       "      <td>-2.0</td>\n",
       "      <td>-17.0</td>\n",
       "      <td>-18.0</td>\n",
       "      <td>-1.0</td>\n",
       "      <td>3.0</td>\n",
       "      <td>4.0</td>\n",
       "      <td>33.0</td>\n",
       "      <td>-6.0</td>\n",
       "      <td>-3.0</td>\n",
       "      <td>-11.0</td>\n",
       "      <td>3.0</td>\n",
       "      <td>13.0</td>\n",
       "      <td>-4.0</td>\n",
       "    </tr>\n",
       "    <tr>\n",
       "      <td>3</td>\n",
       "      <td>-17.0</td>\n",
       "      <td>-18.0</td>\n",
       "      <td>-1.0</td>\n",
       "      <td>3.0</td>\n",
       "      <td>4.0</td>\n",
       "      <td>33.0</td>\n",
       "      <td>-6.0</td>\n",
       "      <td>-3.0</td>\n",
       "      <td>-11.0</td>\n",
       "      <td>3.0</td>\n",
       "      <td>13.0</td>\n",
       "      <td>-4.0</td>\n",
       "      <td>-16.0</td>\n",
       "    </tr>\n",
       "    <tr>\n",
       "      <td>4</td>\n",
       "      <td>-18.0</td>\n",
       "      <td>-1.0</td>\n",
       "      <td>3.0</td>\n",
       "      <td>4.0</td>\n",
       "      <td>33.0</td>\n",
       "      <td>-6.0</td>\n",
       "      <td>-3.0</td>\n",
       "      <td>-11.0</td>\n",
       "      <td>3.0</td>\n",
       "      <td>13.0</td>\n",
       "      <td>-4.0</td>\n",
       "      <td>-16.0</td>\n",
       "      <td>-20.0</td>\n",
       "    </tr>\n",
       "  </tbody>\n",
       "</table>\n",
       "</div>"
      ],
      "text/plain": [
       "   t-12  t-11  t-10   t-9   t-8   t-7   t-6   t-5   t-4   t-3   t-2   t-1  \\\n",
       "0  10.0   9.0  -2.0 -17.0 -18.0  -1.0   3.0   4.0  33.0  -6.0  -3.0 -11.0   \n",
       "1   9.0  -2.0 -17.0 -18.0  -1.0   3.0   4.0  33.0  -6.0  -3.0 -11.0   3.0   \n",
       "2  -2.0 -17.0 -18.0  -1.0   3.0   4.0  33.0  -6.0  -3.0 -11.0   3.0  13.0   \n",
       "3 -17.0 -18.0  -1.0   3.0   4.0  33.0  -6.0  -3.0 -11.0   3.0  13.0  -4.0   \n",
       "4 -18.0  -1.0   3.0   4.0  33.0  -6.0  -3.0 -11.0   3.0  13.0  -4.0 -16.0   \n",
       "\n",
       "      t  \n",
       "0   3.0  \n",
       "1  13.0  \n",
       "2  -4.0  \n",
       "3 -16.0  \n",
       "4 -20.0  "
      ]
     },
     "execution_count": 2,
     "metadata": {},
     "output_type": "execute_result"
    }
   ],
   "source": [
    "# load data, this data has been stationarized\n",
    "df1 = pd.read_csv('vacation_lags_12months_features.csv', header=0)\n",
    "df1.head()"
   ]
  },
  {
   "cell_type": "code",
   "execution_count": 3,
   "metadata": {},
   "outputs": [],
   "source": [
    "vacat = df1.values\n",
    "# split into lagged variables (features) and original time series data (target)\n",
    "X1= vacat[:,0:-1]  # slice all rows and start with column 0 and go up to but not including the last column\n",
    "y1 = vacat[:,-1]  # slice all rows and last column, essentially separating out 't' column"
   ]
  },
  {
   "cell_type": "code",
   "execution_count": 4,
   "metadata": {},
   "outputs": [],
   "source": [
    "# Columns t-1 to t-12, which are the lagged variables\n",
    "# X1"
   ]
  },
  {
   "cell_type": "code",
   "execution_count": 5,
   "metadata": {},
   "outputs": [],
   "source": [
    "# Column t, which is the original time series\n",
    "# Give first 10 values of target variable, time series\n",
    "# y1[0:10]"
   ]
  },
  {
   "cell_type": "code",
   "execution_count": 6,
   "metadata": {},
   "outputs": [
    {
     "name": "stdout",
     "output_type": "stream",
     "text": [
      "Observations for Target: 174\n",
      "Training Observations for Target: 130\n",
      "Testing Observations for Target: 44\n"
     ]
    }
   ],
   "source": [
    "# Target Train-Test split\n",
    "from pandas import read_csv\n",
    "\n",
    "Y1 = y1\n",
    "traintarget_size = int(len(Y1) * 0.75)   # Set split\n",
    "train_target, test_target = Y1[0:traintarget_size], Y1[traintarget_size:len(Y1)]\n",
    "\n",
    "print('Observations for Target: %d' % (len(Y1)))\n",
    "print('Training Observations for Target: %d' % (len(train_target)))\n",
    "print('Testing Observations for Target: %d' % (len(test_target)))"
   ]
  },
  {
   "cell_type": "code",
   "execution_count": 7,
   "metadata": {},
   "outputs": [
    {
     "name": "stdout",
     "output_type": "stream",
     "text": [
      "Observations for feature: 174\n",
      "Training Observations for feature: 130\n",
      "Testing Observations for feature: 44\n"
     ]
    }
   ],
   "source": [
    "# Features Train-Test split\n",
    "\n",
    "# X1\n",
    "trainfeature_size = int(len(X1) * 0.75)\n",
    "train_feature, test_feature = X1[0:trainfeature_size], X1[trainfeature_size:len(X1)]\n",
    "print('Observations for feature: %d' % (len(X1)))\n",
    "print('Training Observations for feature: %d' % (len(train_feature)))\n",
    "print('Testing Observations for feature: %d' % (len(test_feature)))"
   ]
  },
  {
   "cell_type": "code",
   "execution_count": 8,
   "metadata": {},
   "outputs": [
    {
     "name": "stdout",
     "output_type": "stream",
     "text": [
      "0.9848953541459059\n",
      "0.629781104335976\n"
     ]
    }
   ],
   "source": [
    "# Feature Selection with Random Forest\n",
    "\n",
    "# Random Forest\n",
    "from sklearn.ensemble import RandomForestRegressor\n",
    "\n",
    "# Create the random forest model and fit to the training data\n",
    "rfr = RandomForestRegressor(n_estimators=200)  # n_estimators is the number of trees in forest\n",
    "rfr.fit(train_feature, train_target)\n",
    "\n",
    "# Look at the R^2 scores on train and test\n",
    "print(rfr.score(train_feature, train_target))\n",
    "print(rfr.score(test_feature, test_target))  # Try to attain a positive value"
   ]
  },
  {
   "cell_type": "code",
   "execution_count": 9,
   "metadata": {},
   "outputs": [
    {
     "name": "stdout",
     "output_type": "stream",
     "text": [
      "0.7435472939146621 {'random_state': 17, 'n_estimators': 200, 'max_features': 2, 'max_depth': 10}\n"
     ]
    }
   ],
   "source": [
    "# Note: This cell will take some time to run\n",
    "#  https://scikit-learn.org/stable/modules/generated/sklearn.ensemble.RandomForestRegressor.html\n",
    "from sklearn.model_selection import ParameterGrid\n",
    "import numpy as np\n",
    "\n",
    "# Create a dictionary of hyperparameters to search\n",
    "# n_estimators is the number of trees in the forest. The larger the better, \n",
    "# but also the longer it will take to compute. \n",
    "# max_features is the number of features chosen at random at splits\n",
    "# max_depth is the number of splits\n",
    "# random_state will make your result reproducible\n",
    "\n",
    "# Run grid search\n",
    "# grid = {'n_estimators': [200], 'max_depth': [2, 3, 4, 5, 6, 7, 8, 9, 10],'max_features': [2, 3, 4, 5, 6, 7, 8, 9, 10, 11, 12], 'random_state': [17]}\n",
    "grid = {'n_estimators': [200], 'max_depth': [10],'max_features': [2], 'random_state': [17]}\n",
    "test_scores = []\n",
    "\n",
    "# Loop through the parameter grid, set the hyperparameters, and save the scores\n",
    "for g in ParameterGrid(grid):\n",
    "    rfr.set_params(**g)  # ** is \"unpacking\" the dictionary\n",
    "    rfr.fit(train_feature, train_target)\n",
    "    test_scores.append(rfr.score(test_feature, test_target))\n",
    "\n",
    "# Find best hyperparameters from the test score and print\n",
    "best_idx = np.argmax(test_scores)\n",
    "print(test_scores[best_idx], ParameterGrid(grid)[best_idx])  # You don't want negative value\n",
    "\n",
    "# The best test score"
   ]
  },
  {
   "cell_type": "code",
   "execution_count": 10,
   "metadata": {},
   "outputs": [
    {
     "data": {
      "image/png": "[encoded data removed]",
      "text/plain": [
       "<Figure size 432x288 with 1 Axes>"
      ]
     },
     "metadata": {
      "needs_background": "light"
     },
     "output_type": "display_data"
    }
   ],
   "source": [
    "# Use the best hyperparameters from before to fit a random forest model\n",
    "rfr = RandomForestRegressor(n_estimators=200, max_depth=10, max_features=2, random_state=19)\n",
    "rfr.fit(train_feature, train_target)\n",
    "\n",
    "# Make predictions with our model\n",
    "train_prediction = rfr.predict(train_feature)\n",
    "test_prediction = rfr.predict(test_feature)\n",
    "\n",
    "# Create a scatter plot with train and test actual vs predictions\n",
    "plot.scatter(train_target, train_prediction, label='train')\n",
    "plot.scatter(test_target, test_prediction, label='test')\n",
    "plot.legend()\n",
    "plot.show()"
   ]
  },
  {
   "cell_type": "code",
   "execution_count": 11,
   "metadata": {
    "scrolled": true
   },
   "outputs": [
    {
     "data": {
      "image/png": "[encoded data removed]",
      "text/plain": [
       "<Figure size 432x288 with 1 Axes>"
      ]
     },
     "metadata": {
      "needs_background": "light"
     },
     "output_type": "display_data"
    }
   ],
   "source": [
    "# Random Forest Model Feature Importance\n",
    "\n",
    "# get column names\n",
    "df1.columns\n",
    "# Get feature importances from our random forest model\n",
    "importances = rfr.feature_importances_\n",
    "\n",
    "# Get the index of importances from greatest importance to least\n",
    "sorted_index = np.argsort(importances)[::-1]\n",
    "x1 = range(len(importances))\n",
    "\n",
    "# Create tick labels \n",
    "feature_names = ['t-12', 't-11', 't-10', 't-9', 't-8', 't-7', 't-6', 't-5', 't-4', 't-3',\n",
    "       't-2', 't-1']\n",
    "labels = np.array(feature_names)[sorted_index]\n",
    "plot.bar(x1, importances[sorted_index], tick_label=labels)\n",
    "\n",
    "# Rotate tick labels to vertical\n",
    "plot.xticks(rotation=90)\n",
    "plot.show()"
   ]
  },
  {
   "cell_type": "code",
   "execution_count": null,
   "metadata": {},
   "outputs": [],
   "source": []
  },
  {
   "cell_type": "markdown",
   "metadata": {},
   "source": [
    "## Example 2: Bank of America Dataset"
   ]
  },
  {
   "cell_type": "code",
   "execution_count": 12,
   "metadata": {},
   "outputs": [
    {
     "data": {
      "text/html": [
       "<div>\n",
       "<style scoped>\n",
       "    .dataframe tbody tr th:only-of-type {\n",
       "        vertical-align: middle;\n",
       "    }\n",
       "\n",
       "    .dataframe tbody tr th {\n",
       "        vertical-align: top;\n",
       "    }\n",
       "\n",
       "    .dataframe thead th {\n",
       "        text-align: right;\n",
       "    }\n",
       "</style>\n",
       "<table border=\"1\" class=\"dataframe\">\n",
       "  <thead>\n",
       "    <tr style=\"text-align: right;\">\n",
       "      <th></th>\n",
       "      <th>t-12</th>\n",
       "      <th>t-11</th>\n",
       "      <th>t-10</th>\n",
       "      <th>t-9</th>\n",
       "      <th>t-8</th>\n",
       "      <th>t-7</th>\n",
       "      <th>t-6</th>\n",
       "      <th>t-5</th>\n",
       "      <th>t-4</th>\n",
       "      <th>t-3</th>\n",
       "      <th>t-2</th>\n",
       "      <th>t-1</th>\n",
       "      <th>t</th>\n",
       "    </tr>\n",
       "  </thead>\n",
       "  <tbody>\n",
       "    <tr>\n",
       "      <td>0</td>\n",
       "      <td>1.687537</td>\n",
       "      <td>1.469485</td>\n",
       "      <td>1.441042</td>\n",
       "      <td>1.525887</td>\n",
       "      <td>1.476664</td>\n",
       "      <td>1.412676</td>\n",
       "      <td>1.341841</td>\n",
       "      <td>0.879137</td>\n",
       "      <td>0.709480</td>\n",
       "      <td>0.987102</td>\n",
       "      <td>1.002662</td>\n",
       "      <td>1.232781</td>\n",
       "      <td>1.282093</td>\n",
       "    </tr>\n",
       "    <tr>\n",
       "      <td>1</td>\n",
       "      <td>1.469485</td>\n",
       "      <td>1.441042</td>\n",
       "      <td>1.525887</td>\n",
       "      <td>1.476664</td>\n",
       "      <td>1.412676</td>\n",
       "      <td>1.341841</td>\n",
       "      <td>0.879137</td>\n",
       "      <td>0.709480</td>\n",
       "      <td>0.987102</td>\n",
       "      <td>1.002662</td>\n",
       "      <td>1.232781</td>\n",
       "      <td>1.282093</td>\n",
       "      <td>1.595426</td>\n",
       "    </tr>\n",
       "    <tr>\n",
       "      <td>2</td>\n",
       "      <td>1.441042</td>\n",
       "      <td>1.525887</td>\n",
       "      <td>1.476664</td>\n",
       "      <td>1.412676</td>\n",
       "      <td>1.341841</td>\n",
       "      <td>0.879137</td>\n",
       "      <td>0.709480</td>\n",
       "      <td>0.987102</td>\n",
       "      <td>1.002662</td>\n",
       "      <td>1.232781</td>\n",
       "      <td>1.282093</td>\n",
       "      <td>1.595426</td>\n",
       "      <td>1.699101</td>\n",
       "    </tr>\n",
       "    <tr>\n",
       "      <td>3</td>\n",
       "      <td>1.525887</td>\n",
       "      <td>1.476664</td>\n",
       "      <td>1.412676</td>\n",
       "      <td>1.341841</td>\n",
       "      <td>0.879137</td>\n",
       "      <td>0.709480</td>\n",
       "      <td>0.987102</td>\n",
       "      <td>1.002662</td>\n",
       "      <td>1.232781</td>\n",
       "      <td>1.282093</td>\n",
       "      <td>1.595426</td>\n",
       "      <td>1.699101</td>\n",
       "      <td>1.941008</td>\n",
       "    </tr>\n",
       "    <tr>\n",
       "      <td>4</td>\n",
       "      <td>1.476664</td>\n",
       "      <td>1.412676</td>\n",
       "      <td>1.341841</td>\n",
       "      <td>0.879137</td>\n",
       "      <td>0.709480</td>\n",
       "      <td>0.987102</td>\n",
       "      <td>1.002662</td>\n",
       "      <td>1.232781</td>\n",
       "      <td>1.282093</td>\n",
       "      <td>1.595426</td>\n",
       "      <td>1.699101</td>\n",
       "      <td>1.941008</td>\n",
       "      <td>1.707245</td>\n",
       "    </tr>\n",
       "  </tbody>\n",
       "</table>\n",
       "</div>"
      ],
      "text/plain": [
       "       t-12      t-11      t-10       t-9       t-8       t-7       t-6  \\\n",
       "0  1.687537  1.469485  1.441042  1.525887  1.476664  1.412676  1.341841   \n",
       "1  1.469485  1.441042  1.525887  1.476664  1.412676  1.341841  0.879137   \n",
       "2  1.441042  1.525887  1.476664  1.412676  1.341841  0.879137  0.709480   \n",
       "3  1.525887  1.476664  1.412676  1.341841  0.879137  0.709480  0.987102   \n",
       "4  1.476664  1.412676  1.341841  0.879137  0.709480  0.987102  1.002662   \n",
       "\n",
       "        t-5       t-4       t-3       t-2       t-1         t  \n",
       "0  0.879137  0.709480  0.987102  1.002662  1.232781  1.282093  \n",
       "1  0.709480  0.987102  1.002662  1.232781  1.282093  1.595426  \n",
       "2  0.987102  1.002662  1.232781  1.282093  1.595426  1.699101  \n",
       "3  1.002662  1.232781  1.282093  1.595426  1.699101  1.941008  \n",
       "4  1.232781  1.282093  1.595426  1.699101  1.941008  1.707245  "
      ]
     },
     "execution_count": 12,
     "metadata": {},
     "output_type": "execute_result"
    }
   ],
   "source": [
    "# load data, this data has been stationarized\n",
    "df3 = pd.read_csv('bac_lags_12months_features.csv', header=0)\n",
    "df3.head()"
   ]
  },
  {
   "cell_type": "code",
   "execution_count": 13,
   "metadata": {},
   "outputs": [],
   "source": [
    "# Split Data\n",
    "\n",
    "bac = df3.values\n",
    "# split into lagged variables (features) and original time series data (target)\n",
    "X3= bac[:,0:-1]  # slice all rows and start with column 0 and go up to but not including the last column\n",
    "y3 = bac[:,-1]  # slice all rows and last column, essentially separating out 't' column"
   ]
  },
  {
   "cell_type": "code",
   "execution_count": 14,
   "metadata": {},
   "outputs": [
    {
     "data": {
      "text/plain": [
       "array([1.28209293, 1.59542644, 1.69910097, 1.94100773, 1.70724475,\n",
       "       1.65948939, 1.91634405, 1.76750135, 1.85432637, 1.70548344])"
      ]
     },
     "execution_count": 14,
     "metadata": {},
     "output_type": "execute_result"
    }
   ],
   "source": [
    "# Column t, which is the original time series\n",
    "# Give first 10 values of target variable, time series\n",
    "y3[0:10]"
   ]
  },
  {
   "cell_type": "code",
   "execution_count": 15,
   "metadata": {},
   "outputs": [
    {
     "name": "stdout",
     "output_type": "stream",
     "text": [
      "Observations for Target: 345\n",
      "Training Observations for Target: 258\n",
      "Testing Observations for Target: 87\n"
     ]
    }
   ],
   "source": [
    "# Target Train-Test split\n",
    "from pandas import read_csv\n",
    "\n",
    "Y3 = y3\n",
    "traintarget_size = int(len(Y3) * 0.75)   # Set split\n",
    "train_target, test_target = Y3[0:traintarget_size], Y3[traintarget_size:len(Y3)]\n",
    "\n",
    "print('Observations for Target: %d' % (len(Y3)))\n",
    "print('Training Observations for Target: %d' % (len(train_target)))\n",
    "print('Testing Observations for Target: %d' % (len(test_target)))"
   ]
  },
  {
   "cell_type": "code",
   "execution_count": 16,
   "metadata": {},
   "outputs": [
    {
     "name": "stdout",
     "output_type": "stream",
     "text": [
      "Observations for feature: 345\n",
      "Training Observations for feature: 258\n",
      "Testing Observations for feature: 87\n"
     ]
    }
   ],
   "source": [
    "# Features Train-Test split\n",
    "\n",
    "trainfeature_size = int(len(X3) * 0.75)\n",
    "train_feature, test_feature = X3[0:trainfeature_size], X3[trainfeature_size:len(X3)]\n",
    "print('Observations for feature: %d' % (len(X3)))\n",
    "print('Training Observations for feature: %d' % (len(train_feature)))\n",
    "print('Testing Observations for feature: %d' % (len(test_feature)))"
   ]
  },
  {
   "cell_type": "code",
   "execution_count": 17,
   "metadata": {},
   "outputs": [
    {
     "name": "stdout",
     "output_type": "stream",
     "text": [
      "0.9958370039997728\n",
      "0.9469704814846016\n"
     ]
    }
   ],
   "source": [
    "# Random Forest Model\n",
    "from sklearn.ensemble import RandomForestRegressor\n",
    "\n",
    "# Create the random forest model and fit to the training data\n",
    "rfr = RandomForestRegressor(n_estimators=200)\n",
    "rfr.fit(train_feature, train_target)\n",
    "\n",
    "# Look at the R^2 scores on train and test\n",
    "print(rfr.score(train_feature, train_target))\n",
    "print(rfr.score(test_feature, test_target))  # Try to attain a positive value"
   ]
  },
  {
   "cell_type": "code",
   "execution_count": 18,
   "metadata": {},
   "outputs": [
    {
     "name": "stdout",
     "output_type": "stream",
     "text": [
      "0.956948680986422 {'random_state': 13, 'n_estimators': 200, 'max_features': 8, 'max_depth': 4}\n"
     ]
    }
   ],
   "source": [
    "# Note: This cell will take some time to run\n",
    "#  https://scikit-learn.org/stable/modules/generated/sklearn.ensemble.RandomForestRegressor.html\n",
    "from sklearn.model_selection import ParameterGrid\n",
    "import numpy as np\n",
    "\n",
    "# Create a dictionary of hyperparameters to search\n",
    "# n_estimators is the number of trees in the forest. The larger the better, \n",
    "# but also the longer it will take to compute. \n",
    "# Run grid search\n",
    "# grid = {'n_estimators': [200], 'max_depth': [2, 3, 4, 5, 6, 7, 8, 9, 10], 'max_features': [2, 3, 4, 5, 6, 7, 8, 9, 10, 11, 12], 'random_state': [13]}\n",
    "grid = {'n_estimators': [200], 'max_depth': [4], 'max_features': [8], 'random_state': [13]}\n",
    "test_scores = []\n",
    "\n",
    "# Loop through the parameter grid, set the hyperparameters, and save the scores\n",
    "for g in ParameterGrid(grid):\n",
    "    rfr.set_params(**g)  # ** is \"unpacking\" the dictionary\n",
    "    rfr.fit(train_feature, train_target)\n",
    "    test_scores.append(rfr.score(test_feature, test_target))\n",
    "\n",
    "# Find best hyperparameters from the test score and print\n",
    "best_idx = np.argmax(test_scores)\n",
    "print(test_scores[best_idx], ParameterGrid(grid)[best_idx])  # You don't want negative value\n",
    "\n",
    "# The best test score"
   ]
  },
  {
   "cell_type": "code",
   "execution_count": 19,
   "metadata": {},
   "outputs": [
    {
     "data": {
      "image/png": "[encoded data removed]",
      "text/plain": [
       "<Figure size 432x288 with 1 Axes>"
      ]
     },
     "metadata": {
      "needs_background": "light"
     },
     "output_type": "display_data"
    }
   ],
   "source": [
    "# Use the best hyperparameters from before to fit a random forest model\n",
    "rfr = RandomForestRegressor(n_estimators=200, max_depth=4, max_features = 8, random_state=13)\n",
    "rfr.fit(train_feature, train_target)\n",
    "\n",
    "# Make predictions with our model\n",
    "train_prediction = rfr.predict(train_feature)\n",
    "test_prediction = rfr.predict(test_feature)\n",
    "\n",
    "# Create a scatter plot with train and test actual vs predictions\n",
    "plot.scatter(train_target, train_prediction, label='train')\n",
    "plot.scatter(test_target, test_prediction, label='test')\n",
    "plot.legend()\n",
    "plot.show()"
   ]
  },
  {
   "cell_type": "code",
   "execution_count": 20,
   "metadata": {},
   "outputs": [
    {
     "data": {
      "text/plain": [
       "Index(['t-12', 't-11', 't-10', 't-9', 't-8', 't-7', 't-6', 't-5', 't-4', 't-3',\n",
       "       't-2', 't-1', 't'],\n",
       "      dtype='object')"
      ]
     },
     "execution_count": 20,
     "metadata": {},
     "output_type": "execute_result"
    }
   ],
   "source": [
    "# Random Forest Feature Importance\n",
    "# get column names\n",
    "df3.columns"
   ]
  },
  {
   "cell_type": "code",
   "execution_count": 21,
   "metadata": {},
   "outputs": [
    {
     "data": {
      "image/png": "[encoded data removed]",
      "text/plain": [
       "<Figure size 432x288 with 1 Axes>"
      ]
     },
     "metadata": {
      "needs_background": "light"
     },
     "output_type": "display_data"
    }
   ],
   "source": [
    "# Get feature importances from our random forest model\n",
    "importances = rfr.feature_importances_\n",
    "\n",
    "# Get the index of importances from greatest importance to least\n",
    "sorted_index = np.argsort(importances)[::-1]\n",
    "x = range(len(importances))\n",
    "\n",
    "# Create tick labels \n",
    "feature_names = ['t-12', 't-11', 't-10', 't-9', 't-8', 't-7', 't-6', 't-5', 't-4', 't-3',\n",
    "       't-2', 't-1']\n",
    "labels = np.array(feature_names)[sorted_index]\n",
    "plot.bar(x, importances[sorted_index], tick_label=labels)\n",
    "\n",
    "# Rotate tick labels to vertical\n",
    "plot.xticks(rotation=90)\n",
    "plot.show()"
   ]
  }
 ],
 "metadata": {
  "kernelspec": {
   "display_name": "Python 3",
   "language": "python",
   "name": "python3"
  },
  "language_info": {
   "codemirror_mode": {
    "name": "ipython",
    "version": 3
   },
   "file_extension": ".py",
   "mimetype": "text/x-python",
   "name": "python",
   "nbconvert_exporter": "python",
   "pygments_lexer": "ipython3",
   "version": "3.7.4"
  }
 },
 "nbformat": 4,
 "nbformat_minor": 2
}
